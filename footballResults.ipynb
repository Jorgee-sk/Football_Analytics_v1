{
 "cells": [
  {
   "cell_type": "code",
   "execution_count": null,
   "metadata": {},
   "outputs": [
    {
     "name": "stdout",
     "output_type": "stream",
     "text": [
      "Collecting shap\n",
      "  Downloading shap-0.46.0-cp39-cp39-win_amd64.whl.metadata (25 kB)\n",
      "Requirement already satisfied: numpy in c:\\users\\jorge\\proyectos python\\notmaster\\footballresults\\.venv\\lib\\site-packages (from shap) (2.0.2)\n",
      "Requirement already satisfied: scipy in c:\\users\\jorge\\proyectos python\\notmaster\\footballresults\\.venv\\lib\\site-packages (from shap) (1.13.1)\n",
      "Requirement already satisfied: scikit-learn in c:\\users\\jorge\\proyectos python\\notmaster\\footballresults\\.venv\\lib\\site-packages (from shap) (1.6.1)\n",
      "Requirement already satisfied: pandas in c:\\users\\jorge\\proyectos python\\notmaster\\footballresults\\.venv\\lib\\site-packages (from shap) (2.2.3)\n",
      "Collecting tqdm>=4.27.0 (from shap)\n",
      "  Downloading tqdm-4.67.1-py3-none-any.whl.metadata (57 kB)\n",
      "Requirement already satisfied: packaging>20.9 in c:\\users\\jorge\\proyectos python\\notmaster\\footballresults\\.venv\\lib\\site-packages (from shap) (24.2)\n",
      "Collecting slicer==0.0.8 (from shap)\n",
      "  Downloading slicer-0.0.8-py3-none-any.whl.metadata (4.0 kB)\n",
      "Collecting numba (from shap)\n",
      "  Downloading numba-0.60.0-cp39-cp39-win_amd64.whl.metadata (2.8 kB)\n",
      "Collecting cloudpickle (from shap)\n",
      "  Downloading cloudpickle-3.1.1-py3-none-any.whl.metadata (7.1 kB)\n",
      "Requirement already satisfied: colorama in c:\\users\\jorge\\proyectos python\\notmaster\\footballresults\\.venv\\lib\\site-packages (from tqdm>=4.27.0->shap) (0.4.6)\n",
      "Collecting llvmlite<0.44,>=0.43.0dev0 (from numba->shap)\n",
      "  Downloading llvmlite-0.43.0-cp39-cp39-win_amd64.whl.metadata (4.9 kB)\n",
      "Requirement already satisfied: python-dateutil>=2.8.2 in c:\\users\\jorge\\proyectos python\\notmaster\\footballresults\\.venv\\lib\\site-packages (from pandas->shap) (2.9.0.post0)\n",
      "Requirement already satisfied: pytz>=2020.1 in c:\\users\\jorge\\proyectos python\\notmaster\\footballresults\\.venv\\lib\\site-packages (from pandas->shap) (2025.1)\n",
      "Requirement already satisfied: tzdata>=2022.7 in c:\\users\\jorge\\proyectos python\\notmaster\\footballresults\\.venv\\lib\\site-packages (from pandas->shap) (2025.1)\n",
      "Requirement already satisfied: joblib>=1.2.0 in c:\\users\\jorge\\proyectos python\\notmaster\\footballresults\\.venv\\lib\\site-packages (from scikit-learn->shap) (1.4.2)\n",
      "Requirement already satisfied: threadpoolctl>=3.1.0 in c:\\users\\jorge\\proyectos python\\notmaster\\footballresults\\.venv\\lib\\site-packages (from scikit-learn->shap) (3.5.0)\n",
      "Requirement already satisfied: six>=1.5 in c:\\users\\jorge\\proyectos python\\notmaster\\footballresults\\.venv\\lib\\site-packages (from python-dateutil>=2.8.2->pandas->shap) (1.17.0)\n",
      "Downloading shap-0.46.0-cp39-cp39-win_amd64.whl (456 kB)\n",
      "Downloading slicer-0.0.8-py3-none-any.whl (15 kB)\n",
      "Downloading tqdm-4.67.1-py3-none-any.whl (78 kB)\n",
      "Downloading cloudpickle-3.1.1-py3-none-any.whl (20 kB)\n",
      "Downloading numba-0.60.0-cp39-cp39-win_amd64.whl (2.7 MB)\n",
      "   ---------------------------------------- 0.0/2.7 MB ? eta -:--:--\n",
      "   ------------------------------- -------- 2.1/2.7 MB 19.5 MB/s eta 0:00:01\n",
      "   ---------------------------------------- 2.7/2.7 MB 10.3 MB/s eta 0:00:00\n",
      "Downloading llvmlite-0.43.0-cp39-cp39-win_amd64.whl (28.1 MB)\n",
      "   ---------------------------------------- 0.0/28.1 MB ? eta -:--:--\n",
      "   ---- ----------------------------------- 3.4/28.1 MB 16.8 MB/s eta 0:00:02\n",
      "   --------------- ------------------------ 11.0/28.1 MB 26.5 MB/s eta 0:00:01\n",
      "   --------------------------- ------------ 19.1/28.1 MB 31.0 MB/s eta 0:00:01\n",
      "   -------------------------------- ------- 23.1/28.1 MB 28.1 MB/s eta 0:00:01\n",
      "   ---------------------------------------- 28.1/28.1 MB 29.2 MB/s eta 0:00:00\n",
      "Installing collected packages: tqdm, slicer, llvmlite, cloudpickle, numba, shap\n",
      "Successfully installed cloudpickle-3.1.1 llvmlite-0.43.0 numba-0.60.0 shap-0.46.0 slicer-0.0.8 tqdm-4.67.1\n",
      "Note: you may need to restart the kernel to use updated packages.\n"
     ]
    }
   ],
   "source": [
    "%pip install pandas\n",
    "%pip install scikit-learn\n",
    "%pip install seaborn\n",
    "%pip install matplotlib\n",
    "%pip install xgboost\n",
    "%pip install imblearn\n",
    "%pip install numpy\n",
    "%pip install shap"
   ]
  },
  {
   "cell_type": "markdown",
   "metadata": {},
   "source": [
    "<h3> IMPORTS </h3>"
   ]
  },
  {
   "cell_type": "code",
   "execution_count": 55,
   "metadata": {},
   "outputs": [
    {
     "name": "stderr",
     "output_type": "stream",
     "text": [
      "c:\\Users\\jorge\\Proyectos Python\\NotMaster\\FootballResults\\.venv\\lib\\site-packages\\tqdm\\auto.py:21: TqdmWarning: IProgress not found. Please update jupyter and ipywidgets. See https://ipywidgets.readthedocs.io/en/stable/user_install.html\n",
      "  from .autonotebook import tqdm as notebook_tqdm\n"
     ]
    }
   ],
   "source": [
    "import pandas as pd\n",
    "from sklearn.preprocessing import LabelEncoder\n",
    "from sklearn.model_selection import train_test_split\n",
    "from sklearn.ensemble import RandomForestClassifier\n",
    "from sklearn.metrics import accuracy_score, classification_report\n",
    "import matplotlib.pyplot as plt\n",
    "import seaborn as sns\n",
    "from xgboost import XGBClassifier\n",
    "from imblearn.over_sampling import RandomOverSampler\n",
    "import numpy as np\n",
    "import joblib\n",
    "import shap"
   ]
  },
  {
   "cell_type": "markdown",
   "metadata": {},
   "source": [
    "<h3>Preparación de Datos y Exploración</h3>"
   ]
  },
  {
   "cell_type": "code",
   "execution_count": 2,
   "metadata": {},
   "outputs": [
    {
     "data": {
      "text/html": [
       "<div>\n",
       "<style scoped>\n",
       "    .dataframe tbody tr th:only-of-type {\n",
       "        vertical-align: middle;\n",
       "    }\n",
       "\n",
       "    .dataframe tbody tr th {\n",
       "        vertical-align: top;\n",
       "    }\n",
       "\n",
       "    .dataframe thead th {\n",
       "        text-align: right;\n",
       "    }\n",
       "</style>\n",
       "<table border=\"1\" class=\"dataframe\">\n",
       "  <thead>\n",
       "    <tr style=\"text-align: right;\">\n",
       "      <th></th>\n",
       "      <th>Div</th>\n",
       "      <th>Date</th>\n",
       "      <th>Time</th>\n",
       "      <th>HomeTeam</th>\n",
       "      <th>AwayTeam</th>\n",
       "      <th>FTHG</th>\n",
       "      <th>FTAG</th>\n",
       "      <th>FTR</th>\n",
       "      <th>HTHG</th>\n",
       "      <th>HTAG</th>\n",
       "      <th>...</th>\n",
       "      <th>B365CAHH</th>\n",
       "      <th>B365CAHA</th>\n",
       "      <th>PCAHH</th>\n",
       "      <th>PCAHA</th>\n",
       "      <th>MaxCAHH</th>\n",
       "      <th>MaxCAHA</th>\n",
       "      <th>AvgCAHH</th>\n",
       "      <th>AvgCAHA</th>\n",
       "      <th>BFECAHH</th>\n",
       "      <th>BFECAHA</th>\n",
       "    </tr>\n",
       "  </thead>\n",
       "  <tbody>\n",
       "    <tr>\n",
       "      <th>0</th>\n",
       "      <td>SP1</td>\n",
       "      <td>15/08/2024</td>\n",
       "      <td>18:00</td>\n",
       "      <td>Ath Bilbao</td>\n",
       "      <td>Getafe</td>\n",
       "      <td>1</td>\n",
       "      <td>1</td>\n",
       "      <td>D</td>\n",
       "      <td>1</td>\n",
       "      <td>0</td>\n",
       "      <td>...</td>\n",
       "      <td>2.08</td>\n",
       "      <td>1.73</td>\n",
       "      <td>2.17</td>\n",
       "      <td>1.76</td>\n",
       "      <td>2.19</td>\n",
       "      <td>1.82</td>\n",
       "      <td>2.12</td>\n",
       "      <td>1.77</td>\n",
       "      <td>2.19</td>\n",
       "      <td>1.82</td>\n",
       "    </tr>\n",
       "    <tr>\n",
       "      <th>1</th>\n",
       "      <td>SP1</td>\n",
       "      <td>15/08/2024</td>\n",
       "      <td>20:30</td>\n",
       "      <td>Betis</td>\n",
       "      <td>Girona</td>\n",
       "      <td>1</td>\n",
       "      <td>1</td>\n",
       "      <td>D</td>\n",
       "      <td>1</td>\n",
       "      <td>0</td>\n",
       "      <td>...</td>\n",
       "      <td>2.01</td>\n",
       "      <td>1.89</td>\n",
       "      <td>2.03</td>\n",
       "      <td>1.89</td>\n",
       "      <td>2.10</td>\n",
       "      <td>1.94</td>\n",
       "      <td>2.01</td>\n",
       "      <td>1.85</td>\n",
       "      <td>2.08</td>\n",
       "      <td>1.90</td>\n",
       "    </tr>\n",
       "    <tr>\n",
       "      <th>2</th>\n",
       "      <td>SP1</td>\n",
       "      <td>16/08/2024</td>\n",
       "      <td>18:00</td>\n",
       "      <td>Celta</td>\n",
       "      <td>Alaves</td>\n",
       "      <td>2</td>\n",
       "      <td>1</td>\n",
       "      <td>H</td>\n",
       "      <td>0</td>\n",
       "      <td>1</td>\n",
       "      <td>...</td>\n",
       "      <td>1.82</td>\n",
       "      <td>2.11</td>\n",
       "      <td>1.83</td>\n",
       "      <td>2.10</td>\n",
       "      <td>1.84</td>\n",
       "      <td>2.12</td>\n",
       "      <td>1.79</td>\n",
       "      <td>2.08</td>\n",
       "      <td>1.85</td>\n",
       "      <td>2.14</td>\n",
       "    </tr>\n",
       "    <tr>\n",
       "      <th>3</th>\n",
       "      <td>SP1</td>\n",
       "      <td>16/08/2024</td>\n",
       "      <td>20:30</td>\n",
       "      <td>Las Palmas</td>\n",
       "      <td>Sevilla</td>\n",
       "      <td>2</td>\n",
       "      <td>2</td>\n",
       "      <td>D</td>\n",
       "      <td>1</td>\n",
       "      <td>1</td>\n",
       "      <td>...</td>\n",
       "      <td>1.86</td>\n",
       "      <td>2.07</td>\n",
       "      <td>1.87</td>\n",
       "      <td>2.07</td>\n",
       "      <td>1.89</td>\n",
       "      <td>2.11</td>\n",
       "      <td>1.86</td>\n",
       "      <td>2.03</td>\n",
       "      <td>1.90</td>\n",
       "      <td>2.09</td>\n",
       "    </tr>\n",
       "    <tr>\n",
       "      <th>4</th>\n",
       "      <td>SP1</td>\n",
       "      <td>17/08/2024</td>\n",
       "      <td>18:00</td>\n",
       "      <td>Osasuna</td>\n",
       "      <td>Leganes</td>\n",
       "      <td>1</td>\n",
       "      <td>1</td>\n",
       "      <td>D</td>\n",
       "      <td>0</td>\n",
       "      <td>1</td>\n",
       "      <td>...</td>\n",
       "      <td>1.88</td>\n",
       "      <td>2.05</td>\n",
       "      <td>1.88</td>\n",
       "      <td>2.04</td>\n",
       "      <td>1.91</td>\n",
       "      <td>2.06</td>\n",
       "      <td>1.87</td>\n",
       "      <td>2.00</td>\n",
       "      <td>1.94</td>\n",
       "      <td>2.05</td>\n",
       "    </tr>\n",
       "  </tbody>\n",
       "</table>\n",
       "<p>5 rows × 119 columns</p>\n",
       "</div>"
      ],
      "text/plain": [
       "   Div        Date   Time    HomeTeam AwayTeam  FTHG  FTAG FTR  HTHG  HTAG  \\\n",
       "0  SP1  15/08/2024  18:00  Ath Bilbao   Getafe     1     1   D     1     0   \n",
       "1  SP1  15/08/2024  20:30       Betis   Girona     1     1   D     1     0   \n",
       "2  SP1  16/08/2024  18:00       Celta   Alaves     2     1   H     0     1   \n",
       "3  SP1  16/08/2024  20:30  Las Palmas  Sevilla     2     2   D     1     1   \n",
       "4  SP1  17/08/2024  18:00     Osasuna  Leganes     1     1   D     0     1   \n",
       "\n",
       "   ... B365CAHH  B365CAHA  PCAHH  PCAHA  MaxCAHH  MaxCAHA  AvgCAHH  AvgCAHA  \\\n",
       "0  ...     2.08      1.73   2.17   1.76     2.19     1.82     2.12     1.77   \n",
       "1  ...     2.01      1.89   2.03   1.89     2.10     1.94     2.01     1.85   \n",
       "2  ...     1.82      2.11   1.83   2.10     1.84     2.12     1.79     2.08   \n",
       "3  ...     1.86      2.07   1.87   2.07     1.89     2.11     1.86     2.03   \n",
       "4  ...     1.88      2.05   1.88   2.04     1.91     2.06     1.87     2.00   \n",
       "\n",
       "   BFECAHH  BFECAHA  \n",
       "0     2.19     1.82  \n",
       "1     2.08     1.90  \n",
       "2     1.85     2.14  \n",
       "3     1.90     2.09  \n",
       "4     1.94     2.05  \n",
       "\n",
       "[5 rows x 119 columns]"
      ]
     },
     "execution_count": 2,
     "metadata": {},
     "output_type": "execute_result"
    }
   ],
   "source": [
    "df = pd.read_csv('data/SP1.csv')\n",
    "\n",
    "#First five rows of dataframe\n",
    "df.head()"
   ]
  },
  {
   "cell_type": "code",
   "execution_count": 3,
   "metadata": {},
   "outputs": [
    {
     "name": "stdout",
     "output_type": "stream",
     "text": [
      "<class 'pandas.core.frame.DataFrame'>\n",
      "RangeIndex: 240 entries, 0 to 239\n",
      "Columns: 119 entries, Div to BFECAHA\n",
      "dtypes: float64(96), int64(16), object(7)\n",
      "memory usage: 223.2+ KB\n"
     ]
    }
   ],
   "source": [
    "#Information about dataframe\n",
    "df.info()"
   ]
  },
  {
   "cell_type": "code",
   "execution_count": 4,
   "metadata": {},
   "outputs": [
    {
     "name": "stdout",
     "output_type": "stream",
     "text": [
      "['Div', 'Date', 'Time', 'HomeTeam', 'AwayTeam', 'FTHG', 'FTAG', 'FTR', 'HTHG', 'HTAG', 'HTR', 'HS', 'AS', 'HST', 'AST', 'HF', 'AF', 'HC', 'AC', 'HY', 'AY', 'HR', 'AR']\n"
     ]
    }
   ],
   "source": [
    "preserve_column = ['Div', 'Date', 'Time', 'HomeTeam', 'AwayTeam', 'FTHG', 'FTAG', 'FTR', \n",
    "                        'HTHG', 'HTAG', 'HTR', 'HS', 'AS', 'HST', 'AST', 'HF', 'AF', 'HC', 'AC', \n",
    "                        'HY', 'AY', 'HR', 'AR']\n",
    "\n",
    "df = df[preserve_column]\n",
    "\n",
    "print(df.columns.tolist())"
   ]
  },
  {
   "cell_type": "code",
   "execution_count": 5,
   "metadata": {},
   "outputs": [
    {
     "name": "stdout",
     "output_type": "stream",
     "text": [
      "Div         0\n",
      "Date        0\n",
      "Time        0\n",
      "HomeTeam    0\n",
      "AwayTeam    0\n",
      "FTHG        0\n",
      "FTAG        0\n",
      "FTR         0\n",
      "HTHG        0\n",
      "HTAG        0\n",
      "HTR         0\n",
      "HS          0\n",
      "AS          0\n",
      "HST         0\n",
      "AST         0\n",
      "HF          0\n",
      "AF          0\n",
      "HC          0\n",
      "AC          0\n",
      "HY          0\n",
      "AY          0\n",
      "HR          0\n",
      "AR          0\n",
      "dtype: int64\n"
     ]
    },
    {
     "data": {
      "text/html": [
       "<div>\n",
       "<style scoped>\n",
       "    .dataframe tbody tr th:only-of-type {\n",
       "        vertical-align: middle;\n",
       "    }\n",
       "\n",
       "    .dataframe tbody tr th {\n",
       "        vertical-align: top;\n",
       "    }\n",
       "\n",
       "    .dataframe thead th {\n",
       "        text-align: right;\n",
       "    }\n",
       "</style>\n",
       "<table border=\"1\" class=\"dataframe\">\n",
       "  <thead>\n",
       "    <tr style=\"text-align: right;\">\n",
       "      <th></th>\n",
       "      <th>Div</th>\n",
       "      <th>Date</th>\n",
       "      <th>Time</th>\n",
       "      <th>HomeTeam</th>\n",
       "      <th>AwayTeam</th>\n",
       "      <th>FTHG</th>\n",
       "      <th>FTAG</th>\n",
       "      <th>FTR</th>\n",
       "      <th>HTHG</th>\n",
       "      <th>HTAG</th>\n",
       "      <th>...</th>\n",
       "      <th>AST</th>\n",
       "      <th>HF</th>\n",
       "      <th>AF</th>\n",
       "      <th>HC</th>\n",
       "      <th>AC</th>\n",
       "      <th>HY</th>\n",
       "      <th>AY</th>\n",
       "      <th>HR</th>\n",
       "      <th>AR</th>\n",
       "      <th>Result</th>\n",
       "    </tr>\n",
       "  </thead>\n",
       "  <tbody>\n",
       "    <tr>\n",
       "      <th>0</th>\n",
       "      <td>SP1</td>\n",
       "      <td>15/08/2024</td>\n",
       "      <td>18:00</td>\n",
       "      <td>Ath Bilbao</td>\n",
       "      <td>Getafe</td>\n",
       "      <td>1</td>\n",
       "      <td>1</td>\n",
       "      <td>D</td>\n",
       "      <td>1</td>\n",
       "      <td>0</td>\n",
       "      <td>...</td>\n",
       "      <td>2</td>\n",
       "      <td>15</td>\n",
       "      <td>12</td>\n",
       "      <td>5</td>\n",
       "      <td>6</td>\n",
       "      <td>4</td>\n",
       "      <td>1</td>\n",
       "      <td>0</td>\n",
       "      <td>0</td>\n",
       "      <td>1-1</td>\n",
       "    </tr>\n",
       "    <tr>\n",
       "      <th>1</th>\n",
       "      <td>SP1</td>\n",
       "      <td>15/08/2024</td>\n",
       "      <td>20:30</td>\n",
       "      <td>Betis</td>\n",
       "      <td>Girona</td>\n",
       "      <td>1</td>\n",
       "      <td>1</td>\n",
       "      <td>D</td>\n",
       "      <td>1</td>\n",
       "      <td>0</td>\n",
       "      <td>...</td>\n",
       "      <td>2</td>\n",
       "      <td>11</td>\n",
       "      <td>7</td>\n",
       "      <td>4</td>\n",
       "      <td>4</td>\n",
       "      <td>2</td>\n",
       "      <td>0</td>\n",
       "      <td>0</td>\n",
       "      <td>0</td>\n",
       "      <td>1-1</td>\n",
       "    </tr>\n",
       "    <tr>\n",
       "      <th>2</th>\n",
       "      <td>SP1</td>\n",
       "      <td>16/08/2024</td>\n",
       "      <td>18:00</td>\n",
       "      <td>Celta</td>\n",
       "      <td>Alaves</td>\n",
       "      <td>2</td>\n",
       "      <td>1</td>\n",
       "      <td>H</td>\n",
       "      <td>0</td>\n",
       "      <td>1</td>\n",
       "      <td>...</td>\n",
       "      <td>2</td>\n",
       "      <td>8</td>\n",
       "      <td>23</td>\n",
       "      <td>3</td>\n",
       "      <td>3</td>\n",
       "      <td>3</td>\n",
       "      <td>2</td>\n",
       "      <td>0</td>\n",
       "      <td>0</td>\n",
       "      <td>2-1</td>\n",
       "    </tr>\n",
       "    <tr>\n",
       "      <th>3</th>\n",
       "      <td>SP1</td>\n",
       "      <td>16/08/2024</td>\n",
       "      <td>20:30</td>\n",
       "      <td>Las Palmas</td>\n",
       "      <td>Sevilla</td>\n",
       "      <td>2</td>\n",
       "      <td>2</td>\n",
       "      <td>D</td>\n",
       "      <td>1</td>\n",
       "      <td>1</td>\n",
       "      <td>...</td>\n",
       "      <td>5</td>\n",
       "      <td>12</td>\n",
       "      <td>13</td>\n",
       "      <td>6</td>\n",
       "      <td>3</td>\n",
       "      <td>0</td>\n",
       "      <td>0</td>\n",
       "      <td>0</td>\n",
       "      <td>0</td>\n",
       "      <td>2-2</td>\n",
       "    </tr>\n",
       "    <tr>\n",
       "      <th>4</th>\n",
       "      <td>SP1</td>\n",
       "      <td>17/08/2024</td>\n",
       "      <td>18:00</td>\n",
       "      <td>Osasuna</td>\n",
       "      <td>Leganes</td>\n",
       "      <td>1</td>\n",
       "      <td>1</td>\n",
       "      <td>D</td>\n",
       "      <td>0</td>\n",
       "      <td>1</td>\n",
       "      <td>...</td>\n",
       "      <td>4</td>\n",
       "      <td>14</td>\n",
       "      <td>12</td>\n",
       "      <td>6</td>\n",
       "      <td>4</td>\n",
       "      <td>3</td>\n",
       "      <td>2</td>\n",
       "      <td>0</td>\n",
       "      <td>0</td>\n",
       "      <td>1-1</td>\n",
       "    </tr>\n",
       "  </tbody>\n",
       "</table>\n",
       "<p>5 rows × 24 columns</p>\n",
       "</div>"
      ],
      "text/plain": [
       "   Div        Date   Time    HomeTeam AwayTeam  FTHG  FTAG FTR  HTHG  HTAG  \\\n",
       "0  SP1  15/08/2024  18:00  Ath Bilbao   Getafe     1     1   D     1     0   \n",
       "1  SP1  15/08/2024  20:30       Betis   Girona     1     1   D     1     0   \n",
       "2  SP1  16/08/2024  18:00       Celta   Alaves     2     1   H     0     1   \n",
       "3  SP1  16/08/2024  20:30  Las Palmas  Sevilla     2     2   D     1     1   \n",
       "4  SP1  17/08/2024  18:00     Osasuna  Leganes     1     1   D     0     1   \n",
       "\n",
       "   ... AST  HF  AF  HC  AC  HY  AY  HR  AR  Result  \n",
       "0  ...   2  15  12   5   6   4   1   0   0     1-1  \n",
       "1  ...   2  11   7   4   4   2   0   0   0     1-1  \n",
       "2  ...   2   8  23   3   3   3   2   0   0     2-1  \n",
       "3  ...   5  12  13   6   3   0   0   0   0     2-2  \n",
       "4  ...   4  14  12   6   4   3   2   0   0     1-1  \n",
       "\n",
       "[5 rows x 24 columns]"
      ]
     },
     "execution_count": 5,
     "metadata": {},
     "output_type": "execute_result"
    }
   ],
   "source": [
    "#Check if there is any null value\n",
    "print(df.isnull().sum())\n",
    "\n",
    "#Target var creation\n",
    "df['Result'] = df['FTHG'].astype(str) + '-' + df['FTAG'].astype(str)\n",
    "\n",
    "df.head()"
   ]
  },
  {
   "cell_type": "code",
   "execution_count": 6,
   "metadata": {},
   "outputs": [
    {
     "name": "stdout",
     "output_type": "stream",
     "text": [
      "240\n",
      "['1-1', '1-0', '1-2', '2-1', '0-0', '0-1', '2-0', '2-2', '3-0', '3-1', '0-2', '0-3', '4-1', '2-3', '3-2']\n",
      "215\n"
     ]
    }
   ],
   "source": [
    "print(len(df))\n",
    "\n",
    "# Obtain the 15 most commons results \n",
    "top_results = df['Result'].value_counts().nlargest(15).index.tolist()\n",
    "\n",
    "print(top_results)\n",
    "\n",
    "# Check if our result is in the most commons result list\n",
    "df = df[df['Result'].isin(top_results)]\n",
    "\n",
    "print(len(df))"
   ]
  },
  {
   "cell_type": "code",
   "execution_count": 7,
   "metadata": {},
   "outputs": [],
   "source": [
    "features = ['HS', 'AS', 'HST', 'AST', 'HC', 'AC', 'HF', 'AF', 'HY', 'AY', 'HR', 'AR']\n",
    "\n",
    "X = df[features]\n",
    "Y = df['Result']\n"
   ]
  },
  {
   "cell_type": "code",
   "execution_count": 8,
   "metadata": {},
   "outputs": [
    {
     "data": {
      "text/html": [
       "<div>\n",
       "<style scoped>\n",
       "    .dataframe tbody tr th:only-of-type {\n",
       "        vertical-align: middle;\n",
       "    }\n",
       "\n",
       "    .dataframe tbody tr th {\n",
       "        vertical-align: top;\n",
       "    }\n",
       "\n",
       "    .dataframe thead th {\n",
       "        text-align: right;\n",
       "    }\n",
       "</style>\n",
       "<table border=\"1\" class=\"dataframe\">\n",
       "  <thead>\n",
       "    <tr style=\"text-align: right;\">\n",
       "      <th></th>\n",
       "      <th>Div</th>\n",
       "      <th>Date</th>\n",
       "      <th>Time</th>\n",
       "      <th>HomeTeam</th>\n",
       "      <th>AwayTeam</th>\n",
       "      <th>FTHG</th>\n",
       "      <th>FTAG</th>\n",
       "      <th>FTR</th>\n",
       "      <th>HTHG</th>\n",
       "      <th>HTAG</th>\n",
       "      <th>...</th>\n",
       "      <th>HF</th>\n",
       "      <th>AF</th>\n",
       "      <th>HC</th>\n",
       "      <th>AC</th>\n",
       "      <th>HY</th>\n",
       "      <th>AY</th>\n",
       "      <th>HR</th>\n",
       "      <th>AR</th>\n",
       "      <th>Result</th>\n",
       "      <th>Result_label</th>\n",
       "    </tr>\n",
       "  </thead>\n",
       "  <tbody>\n",
       "    <tr>\n",
       "      <th>0</th>\n",
       "      <td>SP1</td>\n",
       "      <td>15/08/2024</td>\n",
       "      <td>18:00</td>\n",
       "      <td>Ath Bilbao</td>\n",
       "      <td>Getafe</td>\n",
       "      <td>1</td>\n",
       "      <td>1</td>\n",
       "      <td>D</td>\n",
       "      <td>1</td>\n",
       "      <td>0</td>\n",
       "      <td>...</td>\n",
       "      <td>15</td>\n",
       "      <td>12</td>\n",
       "      <td>5</td>\n",
       "      <td>6</td>\n",
       "      <td>4</td>\n",
       "      <td>1</td>\n",
       "      <td>0</td>\n",
       "      <td>0</td>\n",
       "      <td>1-1</td>\n",
       "      <td>5</td>\n",
       "    </tr>\n",
       "    <tr>\n",
       "      <th>1</th>\n",
       "      <td>SP1</td>\n",
       "      <td>15/08/2024</td>\n",
       "      <td>20:30</td>\n",
       "      <td>Betis</td>\n",
       "      <td>Girona</td>\n",
       "      <td>1</td>\n",
       "      <td>1</td>\n",
       "      <td>D</td>\n",
       "      <td>1</td>\n",
       "      <td>0</td>\n",
       "      <td>...</td>\n",
       "      <td>11</td>\n",
       "      <td>7</td>\n",
       "      <td>4</td>\n",
       "      <td>4</td>\n",
       "      <td>2</td>\n",
       "      <td>0</td>\n",
       "      <td>0</td>\n",
       "      <td>0</td>\n",
       "      <td>1-1</td>\n",
       "      <td>5</td>\n",
       "    </tr>\n",
       "    <tr>\n",
       "      <th>2</th>\n",
       "      <td>SP1</td>\n",
       "      <td>16/08/2024</td>\n",
       "      <td>18:00</td>\n",
       "      <td>Celta</td>\n",
       "      <td>Alaves</td>\n",
       "      <td>2</td>\n",
       "      <td>1</td>\n",
       "      <td>H</td>\n",
       "      <td>0</td>\n",
       "      <td>1</td>\n",
       "      <td>...</td>\n",
       "      <td>8</td>\n",
       "      <td>23</td>\n",
       "      <td>3</td>\n",
       "      <td>3</td>\n",
       "      <td>3</td>\n",
       "      <td>2</td>\n",
       "      <td>0</td>\n",
       "      <td>0</td>\n",
       "      <td>2-1</td>\n",
       "      <td>8</td>\n",
       "    </tr>\n",
       "    <tr>\n",
       "      <th>3</th>\n",
       "      <td>SP1</td>\n",
       "      <td>16/08/2024</td>\n",
       "      <td>20:30</td>\n",
       "      <td>Las Palmas</td>\n",
       "      <td>Sevilla</td>\n",
       "      <td>2</td>\n",
       "      <td>2</td>\n",
       "      <td>D</td>\n",
       "      <td>1</td>\n",
       "      <td>1</td>\n",
       "      <td>...</td>\n",
       "      <td>12</td>\n",
       "      <td>13</td>\n",
       "      <td>6</td>\n",
       "      <td>3</td>\n",
       "      <td>0</td>\n",
       "      <td>0</td>\n",
       "      <td>0</td>\n",
       "      <td>0</td>\n",
       "      <td>2-2</td>\n",
       "      <td>9</td>\n",
       "    </tr>\n",
       "    <tr>\n",
       "      <th>4</th>\n",
       "      <td>SP1</td>\n",
       "      <td>17/08/2024</td>\n",
       "      <td>18:00</td>\n",
       "      <td>Osasuna</td>\n",
       "      <td>Leganes</td>\n",
       "      <td>1</td>\n",
       "      <td>1</td>\n",
       "      <td>D</td>\n",
       "      <td>0</td>\n",
       "      <td>1</td>\n",
       "      <td>...</td>\n",
       "      <td>14</td>\n",
       "      <td>12</td>\n",
       "      <td>6</td>\n",
       "      <td>4</td>\n",
       "      <td>3</td>\n",
       "      <td>2</td>\n",
       "      <td>0</td>\n",
       "      <td>0</td>\n",
       "      <td>1-1</td>\n",
       "      <td>5</td>\n",
       "    </tr>\n",
       "  </tbody>\n",
       "</table>\n",
       "<p>5 rows × 25 columns</p>\n",
       "</div>"
      ],
      "text/plain": [
       "   Div        Date   Time    HomeTeam AwayTeam  FTHG  FTAG FTR  HTHG  HTAG  \\\n",
       "0  SP1  15/08/2024  18:00  Ath Bilbao   Getafe     1     1   D     1     0   \n",
       "1  SP1  15/08/2024  20:30       Betis   Girona     1     1   D     1     0   \n",
       "2  SP1  16/08/2024  18:00       Celta   Alaves     2     1   H     0     1   \n",
       "3  SP1  16/08/2024  20:30  Las Palmas  Sevilla     2     2   D     1     1   \n",
       "4  SP1  17/08/2024  18:00     Osasuna  Leganes     1     1   D     0     1   \n",
       "\n",
       "   ...  HF  AF  HC  AC  HY  AY  HR  AR  Result  Result_label  \n",
       "0  ...  15  12   5   6   4   1   0   0     1-1             5  \n",
       "1  ...  11   7   4   4   2   0   0   0     1-1             5  \n",
       "2  ...   8  23   3   3   3   2   0   0     2-1             8  \n",
       "3  ...  12  13   6   3   0   0   0   0     2-2             9  \n",
       "4  ...  14  12   6   4   3   2   0   0     1-1             5  \n",
       "\n",
       "[5 rows x 25 columns]"
      ]
     },
     "execution_count": 8,
     "metadata": {},
     "output_type": "execute_result"
    }
   ],
   "source": [
    "encoder = LabelEncoder()\n",
    "df['Result_label'] = encoder.fit_transform(Y)\n",
    "y_encoded = encoder.fit_transform(Y)\n",
    "\n",
    "df.head()"
   ]
  },
  {
   "cell_type": "markdown",
   "metadata": {},
   "source": [
    "<h1> MODEL TRAIN AND TEST </h1>\n",
    "<h2> RANDOM FOREST CLASSIFIER </h2>"
   ]
  },
  {
   "cell_type": "code",
   "execution_count": 9,
   "metadata": {},
   "outputs": [
    {
     "data": {
      "text/plain": [
       "0.18604651162790697"
      ]
     },
     "execution_count": 9,
     "metadata": {},
     "output_type": "execute_result"
    }
   ],
   "source": [
    "#Separate the data between training and testing\n",
    "X_train, X_test, Y_train, Y_test = train_test_split(X, y_encoded, test_size=0.2, random_state=42)\n",
    "\n",
    "model = RandomForestClassifier(n_estimators=100, random_state=42)\n",
    "\n",
    "model.fit(X_train, Y_train)\n",
    "\n",
    "model.score(X_test, Y_test)"
   ]
  },
  {
   "cell_type": "code",
   "execution_count": 10,
   "metadata": {},
   "outputs": [
    {
     "name": "stderr",
     "output_type": "stream",
     "text": [
      "c:\\Users\\jorge\\Proyectos Python\\NotMaster\\FootballResults\\.venv\\lib\\site-packages\\sklearn\\base.py:484: FutureWarning: `BaseEstimator._check_n_features` is deprecated in 1.6 and will be removed in 1.7. Use `sklearn.utils.validation._check_n_features` instead.\n",
      "  warnings.warn(\n",
      "c:\\Users\\jorge\\Proyectos Python\\NotMaster\\FootballResults\\.venv\\lib\\site-packages\\sklearn\\base.py:493: FutureWarning: `BaseEstimator._check_feature_names` is deprecated in 1.6 and will be removed in 1.7. Use `sklearn.utils.validation._check_feature_names` instead.\n",
      "  warnings.warn(\n"
     ]
    }
   ],
   "source": [
    "randomOverSampler = RandomOverSampler(random_state=42)\n",
    "\n",
    "X_resampled, Y_resampled = randomOverSampler.fit_resample(X, Y)\n",
    "\n",
    "Y_encoded_resampled = encoder.fit_transform(Y_resampled)\n",
    "\n",
    "X_train, X_test, Y_train, Y_test = train_test_split(X_resampled, Y_encoded_resampled, test_size=0.2, random_state=42)"
   ]
  },
  {
   "cell_type": "code",
   "execution_count": 11,
   "metadata": {},
   "outputs": [
    {
     "data": {
      "text/plain": [
       "0.7948717948717948"
      ]
     },
     "execution_count": 11,
     "metadata": {},
     "output_type": "execute_result"
    }
   ],
   "source": [
    "model = RandomForestClassifier(n_estimators=100, random_state=42)\n",
    "\n",
    "model.fit(X_train, Y_train)\n",
    "\n",
    "model.score(X_test, Y_test)"
   ]
  },
  {
   "cell_type": "code",
   "execution_count": null,
   "metadata": {},
   "outputs": [],
   "source": [
    "joblib.dump(model, 'modelo_random_forest.pkl')"
   ]
  },
  {
   "cell_type": "code",
   "execution_count": 37,
   "metadata": {},
   "outputs": [
    {
     "name": "stdout",
     "output_type": "stream",
     "text": [
      "['2-1' '2-3' '3-1' '3-0' '3-2' '0-3' '1-0' '0-1' '2-0' '2-0' '3-2' '1-0'\n",
      " '4-1' '0-3' '2-3' '0-0' '1-2' '2-0' '4-1' '1-0' '2-0' '2-1' '1-0' '4-1'\n",
      " '3-1' '1-2' '3-0' '4-1' '2-3' '0-3' '3-0' '2-3' '3-0' '0-1' '2-3' '0-3'\n",
      " '2-2' '2-0' '2-3' '3-2' '0-1' '2-2' '0-3' '3-1' '2-3' '2-0' '2-1' '3-1'\n",
      " '3-1' '3-1' '0-0' '0-1' '2-3' '4-1' '2-2' '0-0' '3-2' '2-2' '2-3' '2-3'\n",
      " '1-0' '0-0' '2-3' '0-2' '3-1' '0-3' '1-0' '2-2' '1-1' '2-1' '1-0' '1-0'\n",
      " '1-1' '0-3' '2-0' '2-2' '0-0' '1-2' '2-0' '3-2' '2-2' '1-2' '1-2' '2-0'\n",
      " '2-3' '2-0' '3-0' '2-3' '0-2' '0-2' '0-3' '3-2' '1-1' '3-2' '2-2' '4-1'\n",
      " '0-3' '2-2' '1-2' '3-2' '2-0' '4-1' '0-1' '2-3' '3-1' '4-1' '0-0' '3-2'\n",
      " '2-2' '3-0' '1-0' '3-0' '0-3' '4-1' '2-1' '4-1' '2-0']\n"
     ]
    }
   ],
   "source": [
    "model = joblib.load(\"modelo_random_forest.pkl\")\n",
    "\n",
    "y_pred = model.predict(X_test)\n",
    "y_pred_labels = encoder.inverse_transform(y_pred)\n",
    "print(y_pred_labels)"
   ]
  },
  {
   "cell_type": "code",
   "execution_count": 38,
   "metadata": {},
   "outputs": [
    {
     "data": {
      "text/plain": [
       "<sklearn.metrics._plot.confusion_matrix.ConfusionMatrixDisplay at 0x24a365085b0>"
      ]
     },
     "execution_count": 38,
     "metadata": {},
     "output_type": "execute_result"
    },
    {
     "data": {
      "image/png": "[encoded data removed]",
      "text/plain": [
       "<Figure size 640x480 with 2 Axes>"
      ]
     },
     "metadata": {},
     "output_type": "display_data"
    }
   ],
   "source": [
    "from sklearn.metrics import confusion_matrix, ConfusionMatrixDisplay\n",
    "\n",
    "cm = confusion_matrix(Y_test, y_pred)\n",
    "\n",
    "ConfusionMatrixDisplay(confusion_matrix=cm).plot(cmap=\"Blues\")"
   ]
  },
  {
   "cell_type": "code",
   "execution_count": 43,
   "metadata": {},
   "outputs": [
    {
     "data": {
      "image/png": "[encoded data removed]",
      "text/plain": [
       "<Figure size 1000x500 with 1 Axes>"
      ]
     },
     "metadata": {},
     "output_type": "display_data"
    }
   ],
   "source": [
    "feature_importance = model.feature_importances_\n",
    "features_names = X.columns\n",
    "\n",
    "# Verificamos que sea igual a 1\n",
    "np.sum(feature_importance)\n",
    "\n",
    "feature_importance_df = pd.DataFrame({\"Feature\": features_names, \"Importance\": feature_importance}).sort_values(by=\"Importance\", ascending=False)\n",
    "\n",
    "plt.figure(figsize=(10,5))\n",
    "sns.barplot(x=feature_importance_df['Feature'], y=feature_importance_df['Importance']*100)\n",
    "plt.title(\"Importancia de las características en la predicción del resultado final\")\n",
    "plt.xlabel('Características')\n",
    "plt.ylabel('Importancia (en %)')\n",
    "plt.show()"
   ]
  },
  {
   "cell_type": "code",
   "execution_count": null,
   "metadata": {},
   "outputs": [
    {
     "data": {
      "image/png": "[encoded data removed]",
      "text/plain": [
       "<Figure size 800x630 with 2 Axes>"
      ]
     },
     "metadata": {},
     "output_type": "display_data"
    }
   ],
   "source": [
    "treeExplainer = shap.TreeExplainer(model)\n",
    "shap_values = treeExplainer.shap_values(X_test)\n",
    "\n",
    "shap.summary_plot(shap_values[:, :, 0], X_test)"
   ]
  },
  {
   "cell_type": "markdown",
   "metadata": {},
   "source": [
    "<h2> XGBOOST RANDOM CLASSIFIER </h2>"
   ]
  },
  {
   "cell_type": "code",
   "execution_count": 14,
   "metadata": {},
   "outputs": [
    {
     "name": "stderr",
     "output_type": "stream",
     "text": [
      "c:\\Users\\jorge\\Proyectos Python\\NotMaster\\FootballResults\\.venv\\lib\\site-packages\\sklearn\\base.py:484: FutureWarning: `BaseEstimator._check_n_features` is deprecated in 1.6 and will be removed in 1.7. Use `sklearn.utils.validation._check_n_features` instead.\n",
      "  warnings.warn(\n",
      "c:\\Users\\jorge\\Proyectos Python\\NotMaster\\FootballResults\\.venv\\lib\\site-packages\\sklearn\\base.py:493: FutureWarning: `BaseEstimator._check_feature_names` is deprecated in 1.6 and will be removed in 1.7. Use `sklearn.utils.validation._check_feature_names` instead.\n",
      "  warnings.warn(\n"
     ]
    },
    {
     "name": "stdout",
     "output_type": "stream",
     "text": [
      "Mejores parámetros: {'n_estimators': 200, 'max_depth': 5, 'learning_rate': 0.05}\n",
      "Mejor precision: 0.80132692747655\n"
     ]
    }
   ],
   "source": [
    "from sklearn.model_selection import RandomizedSearchCV\n",
    "\n",
    "X_train_xgb, X_test_xgb, Y_train_xgb, Y_test_xgb = train_test_split(X, y_encoded, test_size=0.2, random_state=42)\n",
    "\n",
    "randomOverSampler = RandomOverSampler(random_state=42)\n",
    "\n",
    "X_resampled_xgb, Y_resampled_xgb = randomOverSampler.fit_resample(X, Y)\n",
    "\n",
    "Y_encoded_resampled_xgb = encoder.fit_transform(Y_resampled_xgb)\n",
    "\n",
    "X_train_xgb, X_test_xgb, Y_train_xgb, Y_test_xgb = train_test_split(X_resampled_xgb, Y_encoded_resampled_xgb, test_size=0.2, random_state=42)\n",
    "\n",
    "\n",
    "parameters = {\n",
    "    \"n_estimators\": [100, 200, 250, 300, 350, 400],\n",
    "    \"learning_rate\": [0.01, 0.02, 0.03, 0.05, 0.06, 0.07],\n",
    "    \"max_depth\": [1,3,5,7,10]\n",
    "}\n",
    "\n",
    "\n",
    "modelXGM = RandomizedSearchCV(XGBClassifier(random_state = 42), parameters, scoring='accuracy', n_iter=15)\n",
    "\n",
    "modelXGM.fit(X_train_xgb, Y_train_xgb)\n",
    "\n",
    "print(f\"Mejores parámetros: {modelXGM.best_params_}\")\n",
    "print(f\"Mejor precision: {modelXGM.best_score_}\")"
   ]
  },
  {
   "cell_type": "code",
   "execution_count": 15,
   "metadata": {},
   "outputs": [
    {
     "data": {
      "text/plain": [
       "0.8290598290598291"
      ]
     },
     "execution_count": 15,
     "metadata": {},
     "output_type": "execute_result"
    }
   ],
   "source": [
    "modelXGM.score(X_test_xgb, Y_test_xgb)"
   ]
  },
  {
   "cell_type": "code",
   "execution_count": 48,
   "metadata": {},
   "outputs": [
    {
     "data": {
      "text/plain": [
       "['modelo_xgboost.pkl']"
      ]
     },
     "execution_count": 48,
     "metadata": {},
     "output_type": "execute_result"
    }
   ],
   "source": [
    "joblib.dump(modelXGM.best_estimator_, 'modelo_xgboost.pkl')"
   ]
  },
  {
   "cell_type": "code",
   "execution_count": 49,
   "metadata": {},
   "outputs": [
    {
     "name": "stdout",
     "output_type": "stream",
     "text": [
      "['2-1' '2-3' '3-1' '3-0' '3-2' '0-3' '2-3' '0-1' '2-0' '2-0' '3-2' '1-1'\n",
      " '4-1' '0-3' '2-3' '0-0' '1-2' '2-0' '4-1' '0-1' '2-0' '2-1' '0-1' '4-1'\n",
      " '3-1' '2-1' '2-0' '4-1' '2-3' '0-1' '3-0' '2-3' '3-0' '0-1' '2-3' '0-3'\n",
      " '2-2' '2-0' '2-3' '3-2' '0-1' '1-2' '0-3' '3-1' '2-3' '2-0' '1-2' '3-1'\n",
      " '3-1' '3-1' '0-0' '0-1' '2-1' '4-1' '2-2' '0-0' '3-2' '2-2' '2-3' '2-3'\n",
      " '1-0' '0-0' '2-3' '1-2' '3-1' '0-3' '0-1' '2-2' '2-2' '2-1' '1-0' '1-0'\n",
      " '2-2' '0-3' '2-0' '2-2' '0-0' '1-2' '2-0' '3-2' '2-2' '1-2' '1-2' '2-0'\n",
      " '2-3' '2-0' '3-0' '2-3' '0-2' '0-2' '0-3' '3-2' '1-1' '3-2' '2-2' '4-1'\n",
      " '0-3' '2-2' '1-2' '3-2' '2-0' '4-1' '0-1' '2-3' '3-1' '4-1' '0-0' '3-2'\n",
      " '2-2' '1-0' '1-0' '3-0' '0-3' '4-1' '1-2' '4-1' '2-0']\n"
     ]
    }
   ],
   "source": [
    "modelXGM = joblib.load('modelo_xgboost.pkl')\n",
    "\n",
    "y_pred_XGM = modelXGM.predict(X_test_xgb)\n",
    "y_pred_labels_xgb = encoder.inverse_transform(y_pred_XGM)\n",
    "print(y_pred_labels_xgb)"
   ]
  },
  {
   "cell_type": "code",
   "execution_count": 50,
   "metadata": {},
   "outputs": [
    {
     "data": {
      "text/plain": [
       "<sklearn.metrics._plot.confusion_matrix.ConfusionMatrixDisplay at 0x24a4ca3cca0>"
      ]
     },
     "execution_count": 50,
     "metadata": {},
     "output_type": "execute_result"
    },
    {
     "data": {
      "image/png": "[encoded data removed]",
      "text/plain": [
       "<Figure size 640x480 with 2 Axes>"
      ]
     },
     "metadata": {},
     "output_type": "display_data"
    }
   ],
   "source": [
    "cm = confusion_matrix(Y_test, y_pred_XGM)\n",
    "\n",
    "ConfusionMatrixDisplay(confusion_matrix=cm).plot(cmap=\"Blues\")"
   ]
  },
  {
   "cell_type": "code",
   "execution_count": 52,
   "metadata": {},
   "outputs": [
    {
     "data": {
      "image/png": "[encoded data removed]",
      "text/plain": [
       "<Figure size 1000x500 with 1 Axes>"
      ]
     },
     "metadata": {},
     "output_type": "display_data"
    }
   ],
   "source": [
    "feature_importance_xgb = modelXGM.feature_importances_\n",
    "features_names_xgb = X.columns\n",
    "\n",
    "# Verificamos que sea igual a 1\n",
    "np.sum(feature_importance_xgb)\n",
    "\n",
    "feature_importance_xgb_df = pd.DataFrame({\"Feature\": features_names_xgb, \"Importance\": feature_importance_xgb}).sort_values(by=\"Importance\", ascending=False)\n",
    "\n",
    "plt.figure(figsize=(10,5))\n",
    "sns.barplot(x=feature_importance_xgb_df['Feature'], y=feature_importance_xgb_df['Importance']*100)\n",
    "plt.title(\"Importancia de las características en la predicción del resultado final\")\n",
    "plt.xlabel('Características')\n",
    "plt.ylabel('Importancia (en %)')\n",
    "plt.show()"
   ]
  }
 ],
 "metadata": {
  "kernelspec": {
   "display_name": ".venv",
   "language": "python",
   "name": "python3"
  },
  "language_info": {
   "codemirror_mode": {
    "name": "ipython",
    "version": 3
   },
   "file_extension": ".py",
   "mimetype": "text/x-python",
   "name": "python",
   "nbconvert_exporter": "python",
   "pygments_lexer": "ipython3",
   "version": "3.9.11"
  }
 },
 "nbformat": 4,
 "nbformat_minor": 2
}
